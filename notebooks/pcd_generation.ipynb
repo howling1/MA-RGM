{
 "cells": [
  {
   "cell_type": "code",
   "execution_count": 1,
   "id": "d4461415-8bae-4a17-b216-d6881f643291",
   "metadata": {},
   "outputs": [
    {
     "name": "stdout",
     "output_type": "stream",
     "text": [
      "Jupyter environment detected. Enabling Open3D WebVisualizer.\n",
      "[Open3D INFO] WebRTC GUI backend enabled.\n",
      "[Open3D INFO] WebRTCWindowSystem: HTTP handshake server disabled.\n"
     ]
    }
   ],
   "source": [
    "from pathlib import Path\n",
    "import os\n",
    "import random\n",
    "import numpy as np\n",
    "from tqdm import tqdm\n",
    "import open3d as o3d\n",
    "import nibabel as nib\n",
    "from skimage.measure import marching_cubes\n",
    "import shutil\n"
   ]
  },
  {
   "cell_type": "code",
   "execution_count": 3,
   "id": "4a1f6f28-5cfb-495b-8ad3-3051165ee400",
   "metadata": {},
   "outputs": [],
   "source": [
    "def nifti2mesh(nifti_dir, target_dir, limit):\n",
    "    count = 0\n",
    "    \n",
    "    for file in tqdm(os.listdir(str(Path(nifti_dir)))):\n",
    "        if (limit <= count):\n",
    "            break\n",
    "            \n",
    "        _path = str(os.path.join(str(nifti_dir), file).replace('\\\\', '/'))\n",
    "        _filename = os.path.basename(_path).split(\".\")[0]\n",
    "        if _filename == \"\":\n",
    "            continue\n",
    "            \n",
    "        if _filename.split(\"-\")[-1] != \"seg\":\n",
    "            continue\n",
    "\n",
    "        body_segment = nib.load(_path)\n",
    "        body_segment_data = body_segment.get_fdata()\n",
    "        verts, faces, _, __ = marching_cubes(body_segment_data, level=0, step_size=1)\n",
    "        mesh = o3d.geometry.TriangleMesh(vertices=o3d.utility.Vector3dVector(np.asarray(verts)),\n",
    "                                            triangles=o3d.utility.Vector3iVector(np.asarray(faces)))\n",
    "\n",
    "        _target_path =  target_dir + \"/\" + _filename + \".ply\"\n",
    "        o3d.io.write_triangle_mesh(_target_path, mesh)\n",
    "\n",
    "        count += 1\n",
    "\n",
    "def decimate_mesh(mesh_dir, target_dir, faces, limit):\n",
    "    count = 0\n",
    "    \n",
    "    for file in tqdm(os.listdir(str(Path(mesh_dir)))):\n",
    "        if (limit <= count):\n",
    "            break\n",
    "            \n",
    "        _path = str(os.path.join(str(mesh_dir), file).replace('\\\\', '/'))\n",
    "        _filename = os.path.basename(_path).split(\".\")[0]\n",
    "\n",
    "        if _filename == \"\":\n",
    "            continue\n",
    "\n",
    "        mesh = o3d.io.read_triangle_mesh(_path)\n",
    "        decimated_mesh = o3d.geometry.TriangleMesh.simplify_quadric_decimation(mesh, faces)\n",
    "\n",
    "        # delete nodes whose degree is 0\n",
    "        vertices = np.asarray(decimated_mesh.vertices)\n",
    "        triangles = np.asarray(decimated_mesh.triangles)\n",
    "        vertex_degrees = np.zeros(len(vertices), dtype=int)\n",
    "        for i in range(len(triangles)):\n",
    "            v1, v2, v3 = triangles[i]\n",
    "            vertex_degrees[v1] += 1\n",
    "            vertex_degrees[v2] += 1\n",
    "            vertex_degrees[v3] += 1\n",
    "\n",
    "        zero_degree_vertices = np.where(vertex_degrees == 0)[0]\n",
    "        decimated_mesh.remove_vertices_by_index(zero_degree_vertices)\n",
    "\n",
    "        # save decimated mesh\n",
    "        _target_path =  target_dir + \"/\" + _filename + \".ply\"\n",
    "        o3d.io.write_triangle_mesh( _target_path, decimated_mesh)\n",
    "        \n",
    "        count += 1\n",
    "        \n",
    "def mesh2pc(mesh_dir, target_dir, n_points, limit):\n",
    "    count = 0\n",
    "    \n",
    "    for file in tqdm(os.listdir(str(Path(mesh_dir)))):\n",
    "        if (limit <= count):\n",
    "            break\n",
    "            \n",
    "        _path = str(os.path.join(str(mesh_dir), file).replace('\\\\', '/'))\n",
    "        _filename = os.path.basename(_path).split(\".\")[0]\n",
    "\n",
    "        if _filename == \"\":\n",
    "            continue\n",
    "\n",
    "        mesh = o3d.io.read_triangle_mesh(_path)\n",
    "        point_cloud = mesh.sample_points_uniformly(number_of_points=n_points)\n",
    "\n",
    "        # # rescale the point cloud to a unit sphere and center it\n",
    "        points = np.asarray(point_cloud.points)\n",
    "        center = np.mean(points, axis=0)\n",
    "        point_cloud.translate(-center)\n",
    "        max_distance = np.max(np.linalg.norm(points - center, axis=1))\n",
    "        point_cloud.scale(1.0/ max_distance, center=(0, 0, 0))\n",
    "\n",
    "        # save pointcloud\n",
    "        _target_path =  target_dir + \"/\" + _filename + \".ply\"\n",
    "        o3d.io.write_point_cloud(_target_path, point_cloud)\n",
    "\n",
    "        count += 1\n",
    "\n",
    "def data_split(pointcloud_dir, train_portion=0.8):\n",
    "\n",
    "    train_dir = os.path.join(str(pointcloud_dir), \"train\")\n",
    "    test_dir = os.path.join(str(pointcloud_dir), \"test\")\n",
    "\n",
    "    if not os.path.exists(train_dir):\n",
    "        os.makedirs(train_dir)\n",
    "\n",
    "    if not os.path.exists(test_dir):\n",
    "        os.makedirs(test_dir)\n",
    "\n",
    "    file_list = [f for f in os.listdir(str(Path(pointcloud_dir))) if f.endswith(\".ply\")]\n",
    "    random.shuffle(file_list)\n",
    "\n",
    "    for i in tqdm(range(len(file_list))): \n",
    "        file = file_list[i]\n",
    "        _path = str(os.path.join(str(pointcloud_dir), file).replace('\\\\', '/'))\n",
    "        _filename = os.path.basename(_path).split(\".\")[0]\n",
    "\n",
    "        if i <= len(file_list) * train_portion:\n",
    "            shutil.move(_path, train_dir)\n",
    "        else:\n",
    "            shutil.move(_path, test_dir)\n",
    "\n",
    "        \n",
    "\n",
    "\n"
   ]
  },
  {
   "cell_type": "code",
   "execution_count": 4,
   "id": "d7fd87b7-e9cf-4f10-acd6-aa922bf3ce64",
   "metadata": {},
   "outputs": [
    {
     "name": "stderr",
     "output_type": "stream",
     "text": [
      "  0%|          | 0/490 [00:00<?, ?it/s]"
     ]
    },
    {
     "name": "stderr",
     "output_type": "stream",
     "text": [
      "100%|██████████| 490/490 [03:20<00:00,  2.44it/s]\n",
      "100%|██████████| 490/490 [00:00<00:00, 622.09it/s]\n"
     ]
    }
   ],
   "source": [
    "nifti_dir = \"/home/guests/siyu_zhou/dataset/ribseg_dataset\"\n",
    "mesh_dir = \"/home/guests/siyu_zhou/dataset/ribseg_mesh\"\n",
    "decimated_mesh_dir = \"/home/guests/siyu_zhou/dataset/ribseg_mesh_5k\"\n",
    "pointcloud_dir = \"/home/guests/siyu_zhou/dataset/ribseg_pointcloud_2048_scaled\"\n",
    "\n",
    "# nifti2mesh(nifti_dir, mesh_dir, limit = 1000)\n",
    "# decimate_mesh(mesh_dir, decimated_mesh_dir, faces=5000, limit=1000)\n",
    "mesh2pc(mesh_dir, pointcloud_dir, n_points=2048, limit=1000)\n",
    "data_split(pointcloud_dir=pointcloud_dir)\n"
   ]
  },
  {
   "cell_type": "code",
   "execution_count": 1,
   "id": "aa67a4e9",
   "metadata": {},
   "outputs": [],
   "source": [
    "import torch"
   ]
  },
  {
   "cell_type": "code",
   "execution_count": 2,
   "id": "cef39560",
   "metadata": {},
   "outputs": [],
   "source": [
    "x = torch.rand([2,3])"
   ]
  },
  {
   "cell_type": "code",
   "execution_count": 4,
   "id": "94825d4e",
   "metadata": {},
   "outputs": [
    {
     "data": {
      "text/plain": [
       "tensor(3.9834)"
      ]
     },
     "execution_count": 4,
     "metadata": {},
     "output_type": "execute_result"
    }
   ],
   "source": [
    "torch.sum(x)"
   ]
  }
 ],
 "metadata": {
  "kernelspec": {
   "display_name": "Python 3 (ipykernel)",
   "language": "python",
   "name": "python3"
  },
  "language_info": {
   "codemirror_mode": {
    "name": "ipython",
    "version": 3
   },
   "file_extension": ".py",
   "mimetype": "text/x-python",
   "name": "python",
   "nbconvert_exporter": "python",
   "pygments_lexer": "ipython3",
   "version": "3.8.18"
  }
 },
 "nbformat": 4,
 "nbformat_minor": 5
}
